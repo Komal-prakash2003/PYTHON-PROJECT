{
  "nbformat": 4,
  "nbformat_minor": 0,
  "metadata": {
    "colab": {
      "provenance": []
    },
    "kernelspec": {
      "name": "python3",
      "display_name": "Python 3"
    },
    "language_info": {
      "name": "python"
    }
  },
  "cells": [
    {
      "cell_type": "code",
      "execution_count": 1,
      "metadata": {
        "colab": {
          "base_uri": "https://localhost:8080/"
        },
        "id": "efuxVXfoxBDQ",
        "outputId": "0eae231f-04ed-46d6-b13f-1616685d5a1c"
      },
      "outputs": [
        {
          "output_type": "stream",
          "name": "stdout",
          "text": [
            "88bytes\n",
            "80bytes\n",
            "72bytes\n"
          ]
        }
      ],
      "source": [
        "#Q1. Python program to Find the size of a Tuple\n",
        "\n",
        "import sys\n",
        "\n",
        "thistuple = (\"A\", 1, \"B\", 2, \"C\", 3)\n",
        "thistuple2 = (\"Delhi\", \"AAFT\", \"Noida\", \"Data\", \"Pranjali\")\n",
        "thistuple3 = ((1, \"Creat\"), ( 2, \"A\"), (3, \"New\"), (4, \"Page\"))\n",
        "\n",
        "print(str(sys.getsizeof(thistuple)) + \"bytes\")\n",
        "print(str(sys.getsizeof(thistuple2)) + \"bytes\")\n",
        "print(str(sys.getsizeof(thistuple3)) + \"bytes\")"
      ]
    },
    {
      "cell_type": "code",
      "source": [
        "#Q2. Maximum and Minimum K elements in Tuple\n",
        "\n",
        "thistuple = (1, 2, 3, 4, 5, 6)\n",
        "\n",
        "K = 2\n",
        "\n",
        "my_result = []\n",
        "thistuple = list(thistuple)\n",
        "temp = sorted(thistuple)\n",
        "\n",
        "for idx, val in enumerate(temp):\n",
        "   if idx < K or idx >= len(temp) - K:\n",
        "      my_result.append(val)\n",
        "my_result = tuple(my_result)\n",
        "\n",
        "print(my_result)"
      ],
      "metadata": {
        "colab": {
          "base_uri": "https://localhost:8080/"
        },
        "id": "rU22riPJxM8b",
        "outputId": "c3f551dd-af20-4450-de78-82f44740fd45"
      },
      "execution_count": 2,
      "outputs": [
        {
          "output_type": "stream",
          "name": "stdout",
          "text": [
            "(1, 2, 5, 6)\n"
          ]
        }
      ]
    },
    {
      "cell_type": "code",
      "source": [
        "#Q3. Create a list of tuples from given list having number and its cube in each tuple\n",
        "\n",
        "thistuple= [1, 2, 3, 4, 5, 6]\n",
        "my_result = [(val, pow(val, 3)) for val in thistuple]\n",
        "print(my_result)"
      ],
      "metadata": {
        "colab": {
          "base_uri": "https://localhost:8080/"
        },
        "id": "CQVIeg7dxzdr",
        "outputId": "c57b8ede-284c-4c61-aa1e-0794aa16c020"
      },
      "execution_count": 3,
      "outputs": [
        {
          "output_type": "stream",
          "name": "stdout",
          "text": [
            "[(1, 1), (2, 8), (3, 27), (4, 64), (5, 125), (6, 216)]\n"
          ]
        }
      ]
    },
    {
      "cell_type": "code",
      "source": [
        "#Q4. Adding Tuple to List and vice – versa\n",
        "\n",
        "thistuple= [1, 2, 3, 4, 5, 6]\n",
        "\n",
        "thistuple2 = (7, 8)\n",
        "\n",
        "thistuple += thistuple2\n",
        "\n",
        "print(str(thistuple))"
      ],
      "metadata": {
        "colab": {
          "base_uri": "https://localhost:8080/"
        },
        "id": "qewPfU-px3sL",
        "outputId": "a231e3b4-a43c-4227-e261-213245b78096"
      },
      "execution_count": 4,
      "outputs": [
        {
          "output_type": "stream",
          "name": "stdout",
          "text": [
            "[1, 2, 3, 4, 5, 6, 7, 8]\n"
          ]
        }
      ]
    },
    {
      "cell_type": "code",
      "source": [
        "#Q5. Sum of tuple elements\n",
        "\n",
        "thistuple = (7, 8)\n",
        "print(sum(thistuple))"
      ],
      "metadata": {
        "colab": {
          "base_uri": "https://localhost:8080/"
        },
        "id": "6J9fO7ZWx8KS",
        "outputId": "4a4acd49-3c66-4ba0-a3db-ece800028f53"
      },
      "execution_count": 5,
      "outputs": [
        {
          "output_type": "stream",
          "name": "stdout",
          "text": [
            "15\n"
          ]
        }
      ]
    },
    {
      "cell_type": "code",
      "source": [
        "#Q6. Modulo of tuple elements\n",
        "\n",
        "thistuple = (1, 2, 3, 4)\n",
        "thistuple2 = (5, 6, 7, 8)\n",
        "\n",
        "res = tuple(map(lambda x,y: x%y, thistuple, thistuple2))\n",
        "\n",
        "print(str(res))"
      ],
      "metadata": {
        "colab": {
          "base_uri": "https://localhost:8080/"
        },
        "id": "c4S5xnllx_XA",
        "outputId": "1d1c338b-afbf-4641-b618-05e8e7173edf"
      },
      "execution_count": 6,
      "outputs": [
        {
          "output_type": "stream",
          "name": "stdout",
          "text": [
            "(1, 2, 3, 4)\n"
          ]
        }
      ]
    },
    {
      "cell_type": "code",
      "source": [
        "#Q7. Row-wise element Addition in Tuple Matrix\n",
        "\n",
        "thistuple = [[(\"Nothing\", 3), (\"but\", 3)], [(\"Creativity\", 1)], [(\"Creat\", 5), (\"thing\", 1)]]\n",
        "\n",
        "thistuple2 = [6, 7, 8]\n",
        "\n",
        "res = [[sub + (thistuple2[idx], ) for sub in val] for idx, val in enumerate(thistuple)]\n",
        "\n",
        "print(str(res))\n"
      ],
      "metadata": {
        "colab": {
          "base_uri": "https://localhost:8080/"
        },
        "id": "f4Vti4TQyDNr",
        "outputId": "3d857d6d-2f7f-4671-9ef9-a8e4a94fb270"
      },
      "execution_count": 7,
      "outputs": [
        {
          "output_type": "stream",
          "name": "stdout",
          "text": [
            "[[('Nothing', 3, 6), ('but', 3, 6)], [('Creativity', 1, 7)], [('Creat', 5, 8), ('thing', 1, 8)]]\n"
          ]
        }
      ]
    },
    {
      "cell_type": "code",
      "source": [
        "#Q8. Update each element in tuple list\n",
        "\n",
        "thistuple = (10, 20, 30, 40)\n",
        "\n",
        "thistuple2 = list(thistuple)\n",
        "\n",
        "updated_thistuple2 = [item + 100 for item in thistuple2]\n",
        "\n",
        "updated_tuple = tuple(updated_thistuple2)\n",
        "\n",
        "print(updated_tuple)"
      ],
      "metadata": {
        "colab": {
          "base_uri": "https://localhost:8080/"
        },
        "id": "XnM70C7KyKy-",
        "outputId": "a92bba42-64b1-4527-e9d6-c4d607b8ca1b"
      },
      "execution_count": 8,
      "outputs": [
        {
          "output_type": "stream",
          "name": "stdout",
          "text": [
            "(110, 120, 130, 140)\n"
          ]
        }
      ]
    },
    {
      "cell_type": "code",
      "source": [
        "#Q10. Join Tuples if similar initial element\n",
        "\n",
        "thistuple = [(43, 15), (66, 98), (64, 80), (14, 9), (47, 17)]\n",
        "\n",
        "my_result = []\n",
        "for sub in thistuple:\n",
        "   if my_result and my_result[-1][0] == sub[0]:\n",
        "      my_result[-1].extend(sub[1:])\n",
        "   else:\n",
        "      my_result.append([ele for ele in sub])\n",
        "my_result = list(map(tuple, my_result))\n",
        "\n",
        "print(my_result)"
      ],
      "metadata": {
        "colab": {
          "base_uri": "https://localhost:8080/"
        },
        "id": "N6vG1px6yOsc",
        "outputId": "0ad3ef66-ee83-4338-f540-d5254b21eeb7"
      },
      "execution_count": 9,
      "outputs": [
        {
          "output_type": "stream",
          "name": "stdout",
          "text": [
            "[(43, 15), (66, 98), (64, 80), (14, 9), (47, 17)]\n"
          ]
        }
      ]
    },
    {
      "cell_type": "code",
      "source": [
        "#Q11. All pair combinations of 2 tuples\n",
        "\n",
        "from itertools import product\n",
        "N = 2\n",
        "\n",
        "my_result = [ele for ele in product(range(1, N + 1), repeat = N)]\n",
        "\n",
        "print(my_result)"
      ],
      "metadata": {
        "colab": {
          "base_uri": "https://localhost:8080/"
        },
        "id": "5T1GHZcxySZG",
        "outputId": "5435f038-a50a-462c-e594-fbd18f09c6b0"
      },
      "execution_count": 10,
      "outputs": [
        {
          "output_type": "stream",
          "name": "stdout",
          "text": [
            "[(1, 1), (1, 2), (2, 1), (2, 2)]\n"
          ]
        }
      ]
    },
    {
      "cell_type": "code",
      "source": [
        "#Q12. Remove Tuples of Length K\n",
        "\n",
        "thistuple = [(32, 51), (22,13 ), (94, 65, 77), (70, ), (80, 61, 13, 17)]\n",
        "\n",
        "K = 2\n",
        "\n",
        "my_result = [ele for ele in thistuple if len(ele) != K]\n",
        "\n",
        "print(my_result)\n"
      ],
      "metadata": {
        "colab": {
          "base_uri": "https://localhost:8080/"
        },
        "id": "-hkjAF-WyVaA",
        "outputId": "3e17114b-ea1c-4e2d-864f-6ba17d83a5da"
      },
      "execution_count": 11,
      "outputs": [
        {
          "output_type": "stream",
          "name": "stdout",
          "text": [
            "[(94, 65, 77), (70,), (80, 61, 13, 17)]\n"
          ]
        }
      ]
    },
    {
      "cell_type": "code",
      "source": [
        "#Q13. Remove Tuples from the List having every element as None\n",
        "\n",
        "thistuple = [(2, None, 12), (None, None, None), (23, 64), (121, 13), (None, ), (None, 45, 6)]\n",
        "\n",
        "my_result = [sub for sub in thistuple if not all(elem == None for elem in sub)]\n",
        "\n",
        "print(my_result)"
      ],
      "metadata": {
        "colab": {
          "base_uri": "https://localhost:8080/"
        },
        "id": "WYCN7KJtyYrd",
        "outputId": "738d1843-6c63-43c2-80ee-1b075fb51c07"
      },
      "execution_count": 12,
      "outputs": [
        {
          "output_type": "stream",
          "name": "stdout",
          "text": [
            "[(2, None, 12), (23, 64), (121, 13), (None, 45, 6)]\n"
          ]
        }
      ]
    },
    {
      "cell_type": "code",
      "source": [
        "#Q14. Sort a list of tuples by second Item\n",
        "\n",
        "def tuple_sort(thistuple):\n",
        "   return(sorted(thistuple, key = lambda x: x[1]))\n",
        "thistuple = [('bill', 11), ('rick', 45), ('john', 89), ('liv', 25)]\n",
        "\n",
        "print(tuple_sort(thistuple))"
      ],
      "metadata": {
        "colab": {
          "base_uri": "https://localhost:8080/"
        },
        "id": "_4RIvFvjybn0",
        "outputId": "622d9811-ccfb-4e4b-fc33-1a4cc4951d63"
      },
      "execution_count": 13,
      "outputs": [
        {
          "output_type": "stream",
          "name": "stdout",
          "text": [
            "[('bill', 11), ('liv', 25), ('rick', 45), ('john', 89)]\n"
          ]
        }
      ]
    },
    {
      "cell_type": "code",
      "source": [
        "#Q15. Sort Tuples by Total digits\n",
        "\n",
        "def count_tuple_digits(row):\n",
        "   return sum([len(str(element)) for element in row])\n",
        "\n",
        "thistuple = [(32, 14, 65, 723), (13, 26), (12345,), (137, 234, 314)]\n",
        "\n",
        "thistuple.sort(key = count_tuple_digits)\n",
        "\n",
        "print(thistuple)"
      ],
      "metadata": {
        "colab": {
          "base_uri": "https://localhost:8080/"
        },
        "id": "ueHIthV6yfKX",
        "outputId": "178305d6-a9c3-4ddb-ad11-f4c03b9b7314"
      },
      "execution_count": 14,
      "outputs": [
        {
          "output_type": "stream",
          "name": "stdout",
          "text": [
            "[(13, 26), (12345,), (32, 14, 65, 723), (137, 234, 314)]\n"
          ]
        }
      ]
    },
    {
      "cell_type": "code",
      "source": [
        "#Q16. Elements frequency in Tuple\n",
        "\n",
        "from collections import defaultdict\n",
        "\n",
        "thistuple = (4, 5, 4, 5, 6, 6, 5, 5, 4)\n",
        "\n",
        "res = defaultdict(int)\n",
        "for ele in thistuple:\n",
        "\n",
        "\tres[ele] += 1\n",
        "\n",
        "print(str(dict(res)))"
      ],
      "metadata": {
        "colab": {
          "base_uri": "https://localhost:8080/"
        },
        "id": "_w1M0WoryjpB",
        "outputId": "435b2c61-9135-4acc-d6a1-89e778544dfe"
      },
      "execution_count": 15,
      "outputs": [
        {
          "output_type": "stream",
          "name": "stdout",
          "text": [
            "{4: 3, 5: 4, 6: 2}\n"
          ]
        }
      ]
    },
    {
      "cell_type": "code",
      "source": [
        "#Q17. Filter Range Length Tuples\n",
        "\n",
        "thistuple= [(4, ), (5, 6), (2, 3, 5), (5, 6, 8, 2), (5, 9)]\n",
        "\n",
        "i, j = 2, 3\n",
        "\n",
        "res = [sub for sub in thistuple if len(sub) >= i and len(sub) <= j]\n",
        "\n",
        "print(str(res))"
      ],
      "metadata": {
        "colab": {
          "base_uri": "https://localhost:8080/"
        },
        "id": "Nj7JlojwyoFQ",
        "outputId": "49b8683a-382a-42e4-bf82-5aa70d554b87"
      },
      "execution_count": 16,
      "outputs": [
        {
          "output_type": "stream",
          "name": "stdout",
          "text": [
            "[(5, 6), (2, 3, 5), (5, 9)]\n"
          ]
        }
      ]
    },
    {
      "cell_type": "code",
      "source": [
        "#Q18. Assign Frequency to Tuples\n",
        "from collections import Counter # Import the Counter object from the collections module\n",
        "\n",
        "thistuple= [(6, 5, 8), (2, 7), (6, 5, 8), (6, 5, 8), (9, ), (2, 7)]\n",
        "\n",
        "res = [(*key, val) for key, val in Counter(thistuple).items()]\n",
        "\n",
        "print(str(res))"
      ],
      "metadata": {
        "colab": {
          "base_uri": "https://localhost:8080/"
        },
        "id": "2Ij-xp-gysne",
        "outputId": "3abcafca-09af-4c8c-bf15-dacc4c52e0f0"
      },
      "execution_count": 17,
      "outputs": [
        {
          "output_type": "stream",
          "name": "stdout",
          "text": [
            "[(6, 5, 8, 3), (2, 7, 2), (9, 1)]\n"
          ]
        }
      ]
    },
    {
      "cell_type": "code",
      "source": [
        "#Q19. Records with Value at K index\n",
        "\n",
        "thistuple = [(3, 1, 5), (1, 3, 6), (2, 5, 7), (5, 2, 8), (6, 3, 0)]\n",
        "\n",
        "ele = 3\n",
        "\n",
        "K = 1\n",
        "\n",
        "res = []\n",
        "for x, y, z in thistuple:\n",
        "\tif y == ele:\n",
        "\t\tres.append((x, y, z))\n",
        "\n",
        "print(str(res))"
      ],
      "metadata": {
        "colab": {
          "base_uri": "https://localhost:8080/"
        },
        "id": "lv9leiPRywQ0",
        "outputId": "b3ea016e-2833-4d41-b5b1-9987e8b4b05e"
      },
      "execution_count": 18,
      "outputs": [
        {
          "output_type": "stream",
          "name": "stdout",
          "text": [
            "[(1, 3, 6), (6, 3, 0)]\n"
          ]
        }
      ]
    },
    {
      "cell_type": "code",
      "source": [
        "#Q20. Test if tuple is distinct\n",
        "\n",
        "thistuple = (11, 14, 54, 0, 58, 41)\n",
        "\n",
        "my_result = len(set(thistuple)) == len(thistuple)\n",
        "\n",
        "print(my_result)"
      ],
      "metadata": {
        "colab": {
          "base_uri": "https://localhost:8080/"
        },
        "id": "PjcJO6vmy0bA",
        "outputId": "9fd22a8d-ff4c-40e6-c75c-e78d3f2107ec"
      },
      "execution_count": 19,
      "outputs": [
        {
          "output_type": "stream",
          "name": "stdout",
          "text": [
            "True\n"
          ]
        }
      ]
    },
    {
      "cell_type": "code",
      "source": [
        "#Q21. Python program to find tuples which have all elements divisible by K from a list of tuples\n",
        "\n",
        "thistuple = [(45, 90, 135), (71, 92, 26), (2, 67, 98)]\n",
        "\n",
        "K = 5\n",
        "\n",
        "my_result = [sub for sub in thistuple if all(ele % K == 0 for ele in sub)]\n",
        "\n",
        "print(str(my_result))"
      ],
      "metadata": {
        "colab": {
          "base_uri": "https://localhost:8080/"
        },
        "id": "Oqf4noGny4sl",
        "outputId": "8a14145d-13d0-4340-8510-93789d660b66"
      },
      "execution_count": 20,
      "outputs": [
        {
          "output_type": "stream",
          "name": "stdout",
          "text": [
            "[(45, 90, 135)]\n"
          ]
        }
      ]
    },
    {
      "cell_type": "code",
      "source": [
        "#Q22. Python program to find Tuples with positive elements in List of tuples\n",
        "\n",
        "thistuple = [(56, 43), (-31, 21, 23), (51, -65, 26), (24, 56)]\n",
        "\n",
        "my_result = [sub for sub in thistuple if all(elem >= 0 for elem in sub)]\n",
        "\n",
        "print(my_result)\n"
      ],
      "metadata": {
        "colab": {
          "base_uri": "https://localhost:8080/"
        },
        "id": "g8HOHrAhy8H2",
        "outputId": "7f5a7ee5-b114-4184-feff-c22f9330a044"
      },
      "execution_count": 21,
      "outputs": [
        {
          "output_type": "stream",
          "name": "stdout",
          "text": [
            "[(56, 43), (24, 56)]\n"
          ]
        }
      ]
    },
    {
      "cell_type": "code",
      "source": [
        "#Q23.  Count tuples occurrence in list of tuples\n",
        "import collections # Import the collections module to use defaultdict\n",
        "\n",
        "Alist = [[('Mon', 'Wed')], [('Mon')], [('Tue')],[('Mon', 'Wed')] ]\n",
        "\n",
        "res = collections.defaultdict(int)\n",
        "for elem in Alist:\n",
        "   res[elem[0]] += 1\n",
        "print(res)"
      ],
      "metadata": {
        "colab": {
          "base_uri": "https://localhost:8080/"
        },
        "id": "_wzWBZlwy_S7",
        "outputId": "abfa6f67-0ffd-46a5-c061-00fc7e3d3c03"
      },
      "execution_count": 22,
      "outputs": [
        {
          "output_type": "stream",
          "name": "stdout",
          "text": [
            "defaultdict(<class 'int'>, {('Mon', 'Wed'): 2, 'Mon': 1, 'Tue': 1})\n"
          ]
        }
      ]
    },
    {
      "cell_type": "code",
      "source": [
        "#Q24. Removing duplicates from tuple\n",
        "\n",
        "thistuple = [(11, 14), (0, 78), (33, 11), (0, 78)]\n",
        "\n",
        "my_unique_list = list(set([i for i in thistuple]))\n",
        "\n",
        "print(my_unique_list)"
      ],
      "metadata": {
        "colab": {
          "base_uri": "https://localhost:8080/"
        },
        "id": "Ii0OQHPOzC02",
        "outputId": "7dfcc97f-7813-4c23-a20c-1985458c7213"
      },
      "execution_count": 23,
      "outputs": [
        {
          "output_type": "stream",
          "name": "stdout",
          "text": [
            "[(33, 11), (11, 14), (0, 78)]\n"
          ]
        }
      ]
    },
    {
      "cell_type": "code",
      "source": [
        "#Q27. Cross Pairing in Tuple List\n",
        "\n",
        "thistuple = [('My', 'Name'), ('Is', 'Data'), ('Hello', 'Come'), ('goodwill', 'Jill')]\n",
        "thistuple2 = [('My', 'AAFT'), ('Is', 'Science'), ('Hello', 'Here'), ('a', 'b')]\n",
        "\n",
        "thistuple.sort()\n",
        "thistuple2.sort()\n",
        "\n",
        "my_result = [(a[1], b[1]) for a, b in zip(thistuple, thistuple2) if a[0] == b[0]]\n",
        "\n",
        "print(my_result)"
      ],
      "metadata": {
        "colab": {
          "base_uri": "https://localhost:8080/"
        },
        "id": "uxbSD_kHzGnI",
        "outputId": "e2725c6a-d825-4e58-ceb8-00d64ea279f0"
      },
      "execution_count": 24,
      "outputs": [
        {
          "output_type": "stream",
          "name": "stdout",
          "text": [
            "[('Come', 'Here'), ('Data', 'Science'), ('Name', 'AAFT')]\n"
          ]
        }
      ]
    },
    {
      "cell_type": "code",
      "source": [
        "#Q28. Consecutive Kth column Difference in Tuple List\n",
        "\n",
        "thistuple = [(5, 4, 2), (1, 3, 4), (5, 7, 8), (7, 4, 3)]\n",
        "\n",
        "K = 1\n",
        "\n",
        "res = []\n",
        "for idx in range(0, len(thistuple) - 1):\n",
        "\n",
        "\tres.append(abs(thistuple[idx][K] - thistuple[idx + 1][K]))\n",
        "\n",
        "print(str(res))"
      ],
      "metadata": {
        "colab": {
          "base_uri": "https://localhost:8080/"
        },
        "id": "p3aSYPlLzWif",
        "outputId": "a8910080-e689-405c-b8c0-f30467af89c8"
      },
      "execution_count": 25,
      "outputs": [
        {
          "output_type": "stream",
          "name": "stdout",
          "text": [
            "[1, 4, 3]\n"
          ]
        }
      ]
    },
    {
      "cell_type": "code",
      "source": [
        "#Q29. Kth Column Product in Tuple List\n",
        "\n",
        "def prod_compute(my_val) :\n",
        "   my_result = 1\n",
        "   for elem in my_val:\n",
        "      my_result *= elem\n",
        "   return my_result\n",
        "\n",
        "thistuple = [(51, 62, 75), (18,39, 25), (81, 19, 99)]\n",
        "\n",
        "K = 2\n",
        "\n",
        "my_result = prod_compute([sub[K] for sub in thistuple])\n",
        "\n",
        "print(my_result)"
      ],
      "metadata": {
        "colab": {
          "base_uri": "https://localhost:8080/"
        },
        "id": "JrK5RGZazbdk",
        "outputId": "df1c754e-1f9c-4701-a9a0-1dc28bb2c93d"
      },
      "execution_count": 26,
      "outputs": [
        {
          "output_type": "stream",
          "name": "stdout",
          "text": [
            "185625\n"
          ]
        }
      ]
    },
    {
      "cell_type": "code",
      "source": [
        "#Q30. Flatten tuple of List to tuple\n",
        "\n",
        "thistuple = ([5, 6], [6, 7, 8, 9], [3])\n",
        "\n",
        "res = tuple(sum(thistuple, []))\n",
        "\n",
        "print(str(res))"
      ],
      "metadata": {
        "colab": {
          "base_uri": "https://localhost:8080/"
        },
        "id": "XqgH3TuUzf-3",
        "outputId": "7601d35e-eb50-4357-f0ef-1c7a5009ec2b"
      },
      "execution_count": 27,
      "outputs": [
        {
          "output_type": "stream",
          "name": "stdout",
          "text": [
            "(5, 6, 6, 7, 8, 9, 3)\n"
          ]
        }
      ]
    },
    {
      "cell_type": "code",
      "source": [
        "#Q31. Flatten Tuples List to String\n",
        "\n",
        "thistuple = [(11, 14), (54, 56), (98, 0), (13, 76)]\n",
        "\n",
        "my_result = str(thistuple).strip('[]')\n",
        "\n",
        "print(my_result)"
      ],
      "metadata": {
        "colab": {
          "base_uri": "https://localhost:8080/"
        },
        "id": "m44WBXmCzkA_",
        "outputId": "67adc3ef-cabb-4274-ba5f-695a4aa621a5"
      },
      "execution_count": 28,
      "outputs": [
        {
          "output_type": "stream",
          "name": "stdout",
          "text": [
            "(11, 14), (54, 56), (98, 0), (13, 76)\n"
          ]
        }
      ]
    },
    {
      "cell_type": "code",
      "source": [
        "#Q32. Python program to sort a list of tuples alphabetically\n",
        "\n",
        "def sort_tuple_vals(Mak2001):\n",
        "   thistuple.sort(key = lambda x: x[0])\n",
        "   return thistuple\n",
        "thistuple = [(\"Hey\", 18), (\"Jane\", 33), (\"Will\", 56),(\"Nysa\", 35), (\"May\", \"Pink\")]\n",
        "\n",
        "print(sort_tuple_vals(thistuple))"
      ],
      "metadata": {
        "colab": {
          "base_uri": "https://localhost:8080/"
        },
        "id": "4QY47bz7zn__",
        "outputId": "a6d97eb2-730b-4d87-8125-7c22200578ff"
      },
      "execution_count": 29,
      "outputs": [
        {
          "output_type": "stream",
          "name": "stdout",
          "text": [
            "[('Hey', 18), ('Jane', 33), ('May', 'Pink'), ('Nysa', 35), ('Will', 56)]\n"
          ]
        }
      ]
    },
    {
      "cell_type": "code",
      "source": [
        "#Q33. Combinations of sum with tuples in tuple list\n",
        "from itertools import combinations # Import the combinations function from the itertools module\n",
        "thistuple = [( 67, 45), (34, 56), (99, 123), (10, 56)]\n",
        "\n",
        "res = [(b1 + a1, b2 + a2) for (a1, a2), (b1, b2) in combinations(thistuple, 2)]\n",
        "\n",
        "print(str(res))"
      ],
      "metadata": {
        "colab": {
          "base_uri": "https://localhost:8080/"
        },
        "id": "tcOT2BEQzrSj",
        "outputId": "7937269c-c396-44d4-ee4a-a35eefa3158d"
      },
      "execution_count": 30,
      "outputs": [
        {
          "output_type": "stream",
          "name": "stdout",
          "text": [
            "[(101, 101), (166, 168), (77, 101), (133, 179), (44, 112), (109, 179)]\n"
          ]
        }
      ]
    },
    {
      "cell_type": "code",
      "source": [
        "#Q34. Custom sorting in list of tuples\n",
        "\n",
        "def tuple_sort(thistuple):\n",
        "   thistuple.sort(key = lambda x: x[1])\n",
        "   return thistuple\n",
        "\n",
        "thistuple = [('Will', 100), ('John', 67), ('Harold', 86), ('Jane', 35)]\n",
        "\n",
        "print(tuple_sort(thistuple))\n"
      ],
      "metadata": {
        "colab": {
          "base_uri": "https://localhost:8080/"
        },
        "id": "Z_5xqRG5zuYN",
        "outputId": "0dfdef2a-88c6-4b84-d50c-2bd85f33ab2b"
      },
      "execution_count": 31,
      "outputs": [
        {
          "output_type": "stream",
          "name": "stdout",
          "text": [
            "[('Jane', 35), ('John', 67), ('Harold', 86), ('Will', 100)]\n"
          ]
        }
      ]
    },
    {
      "cell_type": "code",
      "source": [],
      "metadata": {
        "id": "s8I43q8pzxiF"
      },
      "execution_count": null,
      "outputs": []
    }
  ]
}