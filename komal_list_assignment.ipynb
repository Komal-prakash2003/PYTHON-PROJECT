{
  "nbformat": 4,
  "nbformat_minor": 0,
  "metadata": {
    "colab": {
      "provenance": []
    },
    "kernelspec": {
      "name": "python3",
      "display_name": "Python 3"
    },
    "language_info": {
      "name": "python"
    }
  },
  "cells": [
    {
      "cell_type": "code",
      "execution_count": 1,
      "metadata": {
        "colab": {
          "base_uri": "https://localhost:8080/"
        },
        "id": "yGB1zaVbuQU5",
        "outputId": "8c57affe-eccc-4777-ef42-74dcd1d76b97"
      },
      "outputs": [
        {
          "output_type": "execute_result",
          "data": {
            "text/plain": [
              "['guava', 'banana', 'cherry', 'guava', 'apple']"
            ]
          },
          "metadata": {},
          "execution_count": 1
        }
      ],
      "source": [
        "#1 Write a Program to interchange first and last elements in a list !\n",
        "L1=[\"apple\",\"banana\",\"cherry\",\"guava\",\"grapes\"]\n",
        "L1[0]=\"guava\"\n",
        "L1[4]=\"apple\"\n",
        "L1"
      ]
    },
    {
      "cell_type": "code",
      "source": [
        "#2 Program to swap two elements in a list !\n",
        "L1=[\"apple\",\"banana\",\"cherry\",\"guava\",\"grapes\"]\n",
        "L1[2]=\"guava\"\n",
        "L1[3]=\"cherry\"\n",
        "L1"
      ],
      "metadata": {
        "colab": {
          "base_uri": "https://localhost:8080/"
        },
        "id": "RLcu0mH0uVuh",
        "outputId": "ac0e1a61-54cd-43bb-d7f3-44b7ea6ff90e"
      },
      "execution_count": 2,
      "outputs": [
        {
          "output_type": "execute_result",
          "data": {
            "text/plain": [
              "['apple', 'banana', 'guava', 'cherry', 'grapes']"
            ]
          },
          "metadata": {},
          "execution_count": 2
        }
      ]
    },
    {
      "cell_type": "code",
      "source": [
        "#3 Swap elements in String list 1\n",
        "A=\"hello world\"\n",
        "L1=list(A)\n",
        "L1[0:5],L1[5],L1[6:11]=L1[6:11],L1[5],L1[0:5]\n",
        "L1"
      ],
      "metadata": {
        "colab": {
          "base_uri": "https://localhost:8080/"
        },
        "id": "CJW4zothuiZk",
        "outputId": "3e710aa2-5441-49d5-9b55-23b40ef18e5f"
      },
      "execution_count": 3,
      "outputs": [
        {
          "output_type": "execute_result",
          "data": {
            "text/plain": [
              "['w', 'o', 'r', 'l', 'd', ' ', 'h', 'e', 'l', 'l', 'o']"
            ]
          },
          "metadata": {},
          "execution_count": 3
        }
      ]
    },
    {
      "cell_type": "code",
      "source": [
        "#4 Ways to find length of list !\n",
        "L1=[1,2,3,4,5,6,7]\n",
        "print(len(L1))"
      ],
      "metadata": {
        "colab": {
          "base_uri": "https://localhost:8080/"
        },
        "id": "_agpEJR_ujEq",
        "outputId": "d4d8967c-4b8f-47c6-c9bc-c73c3fc35b9a"
      },
      "execution_count": 4,
      "outputs": [
        {
          "output_type": "stream",
          "name": "stdout",
          "text": [
            "7\n"
          ]
        }
      ]
    },
    {
      "cell_type": "code",
      "source": [
        "#5 Maximum of two numbers in Python !\n",
        "L1=[1,2]\n",
        "print(max(L1))"
      ],
      "metadata": {
        "colab": {
          "base_uri": "https://localhost:8080/"
        },
        "id": "AhDic5tIuoH7",
        "outputId": "01c57723-8601-4999-fdd8-b9f33c70fb47"
      },
      "execution_count": 5,
      "outputs": [
        {
          "output_type": "stream",
          "name": "stdout",
          "text": [
            "2\n"
          ]
        }
      ]
    },
    {
      "cell_type": "code",
      "source": [
        "#6 Minimum of two numbers in Python !\n",
        "L1=[1,2]\n",
        "print(min(L1))"
      ],
      "metadata": {
        "colab": {
          "base_uri": "https://localhost:8080/"
        },
        "id": "t6yXhBySusC6",
        "outputId": "91fcd223-52b2-4f07-b23b-ce0e1cad3af5"
      },
      "execution_count": 6,
      "outputs": [
        {
          "output_type": "stream",
          "name": "stdout",
          "text": [
            "1\n"
          ]
        }
      ]
    },
    {
      "cell_type": "code",
      "source": [
        "#7 Ways to check if element exists in list !\n",
        "L1=[1,2,3,4]\n",
        "print(1 in L1)"
      ],
      "metadata": {
        "colab": {
          "base_uri": "https://localhost:8080/"
        },
        "id": "E2E2TqAAuw9e",
        "outputId": "e249dd16-318b-4e11-958a-907c95ed439a"
      },
      "execution_count": 7,
      "outputs": [
        {
          "output_type": "stream",
          "name": "stdout",
          "text": [
            "True\n"
          ]
        }
      ]
    },
    {
      "cell_type": "code",
      "source": [
        "#8 Different ways to clear a list in Python !\n",
        "#method 1\n",
        "L1=[\"a\",\"b\",\"c\",\"d\"]\n",
        "L1.clear()\n",
        "print(L1)\n",
        "#method 2\n",
        "L2=[1,2,3,4,5]\n",
        "del L2[:]\n",
        "print(L2)"
      ],
      "metadata": {
        "colab": {
          "base_uri": "https://localhost:8080/"
        },
        "id": "4WVP3fWCu1fE",
        "outputId": "3edc344a-614c-4c6d-d9c3-c17aa9c1221e"
      },
      "execution_count": 8,
      "outputs": [
        {
          "output_type": "stream",
          "name": "stdout",
          "text": [
            "[]\n",
            "[]\n"
          ]
        }
      ]
    },
    {
      "cell_type": "code",
      "source": [
        "#10 Cloning or Copying a list !\n",
        "L1=[1,2,3,4,5]\n",
        "L2=L1.copy()\n",
        "L2"
      ],
      "metadata": {
        "colab": {
          "base_uri": "https://localhost:8080/"
        },
        "id": "S6MceyqAu5EL",
        "outputId": "25027fe4-8794-4969-e529-d92de6ce3a59"
      },
      "execution_count": 9,
      "outputs": [
        {
          "output_type": "execute_result",
          "data": {
            "text/plain": [
              "[1, 2, 3, 4, 5]"
            ]
          },
          "metadata": {},
          "execution_count": 9
        }
      ]
    },
    {
      "cell_type": "code",
      "source": [
        "#11 Count occurrences of an element in a list !\n",
        "L1=[1,2,3,4,5,6,1,2,3,4,5,6,1,2,3,3]\n",
        "print(L1.count(3))"
      ],
      "metadata": {
        "colab": {
          "base_uri": "https://localhost:8080/"
        },
        "id": "18e1ZrW5vCpF",
        "outputId": "08f017e8-c722-497a-feba-9b85bc8d2767"
      },
      "execution_count": 10,
      "outputs": [
        {
          "output_type": "stream",
          "name": "stdout",
          "text": [
            "4\n"
          ]
        }
      ]
    },
    {
      "cell_type": "code",
      "source": [
        "#12 Program to find sum and average of List in Python !\n",
        "L1=[1,2,3,4,11,22,33,44]\n",
        "print(sum(L1))\n",
        "print(sum(L1)/len(L1))"
      ],
      "metadata": {
        "colab": {
          "base_uri": "https://localhost:8080/"
        },
        "id": "SgsMfJyyvG2v",
        "outputId": "e9df19ab-e665-49ee-b738-a075176fadea"
      },
      "execution_count": 11,
      "outputs": [
        {
          "output_type": "stream",
          "name": "stdout",
          "text": [
            "120\n",
            "15.0\n"
          ]
        }
      ]
    },
    {
      "cell_type": "code",
      "source": [
        "#13 Sum of number digits in List !\n",
        "L1=[1,2,3,7,8,9]\n",
        "print(sum(L1))"
      ],
      "metadata": {
        "colab": {
          "base_uri": "https://localhost:8080/"
        },
        "id": "6yy8AKnLvJ4E",
        "outputId": "311b27c8-c6a4-4380-d9e8-f15302c761d3"
      },
      "execution_count": 12,
      "outputs": [
        {
          "output_type": "stream",
          "name": "stdout",
          "text": [
            "30\n"
          ]
        }
      ]
    },
    {
      "cell_type": "code",
      "source": [
        "#14 Multiply all numbers in the list !\n",
        "L1=[1,3,5,7,9,11,13]\n",
        "product=(1*3*5*7*9*11*13)\n",
        "print(product)"
      ],
      "metadata": {
        "colab": {
          "base_uri": "https://localhost:8080/"
        },
        "id": "0-8yu9RIvPri",
        "outputId": "c1f45021-800f-4746-81e3-12f23fc5cf7f"
      },
      "execution_count": 13,
      "outputs": [
        {
          "output_type": "stream",
          "name": "stdout",
          "text": [
            "135135\n"
          ]
        }
      ]
    },
    {
      "cell_type": "code",
      "source": [
        "#15 Program to find smallest number in a list !\n",
        "L1=[11,12,13,14,15,16]\n",
        "print(min(L1))"
      ],
      "metadata": {
        "colab": {
          "base_uri": "https://localhost:8080/"
        },
        "id": "Q-KDviuZvS-B",
        "outputId": "bab969ff-3024-4f1d-9113-88ea10a6b3bf"
      },
      "execution_count": 14,
      "outputs": [
        {
          "output_type": "stream",
          "name": "stdout",
          "text": [
            "11\n"
          ]
        }
      ]
    },
    {
      "cell_type": "code",
      "source": [
        "#16 Program to find largest number in a list !\n",
        "L1=[11,12,13,14,15,16]\n",
        "print(max(L1))"
      ],
      "metadata": {
        "colab": {
          "base_uri": "https://localhost:8080/"
        },
        "id": "ItR9EarAvWXP",
        "outputId": "1df7787f-192b-4024-bd29-e6a1e712e74b"
      },
      "execution_count": 15,
      "outputs": [
        {
          "output_type": "stream",
          "name": "stdout",
          "text": [
            "16\n"
          ]
        }
      ]
    },
    {
      "cell_type": "code",
      "source": [
        "L1=[11,12,13]\n",
        "m=max(L1)\n",
        "L1.remove(m)\n",
        "print(max(L1))"
      ],
      "metadata": {
        "colab": {
          "base_uri": "https://localhost:8080/"
        },
        "id": "QPN3KY8_vcNe",
        "outputId": "e73a0885-48d6-4c33-9125-bfe627a13403"
      },
      "execution_count": 16,
      "outputs": [
        {
          "output_type": "stream",
          "name": "stdout",
          "text": [
            "12\n"
          ]
        }
      ]
    },
    {
      "cell_type": "code",
      "source": [
        "#17 Program to print even numbers in a list !\n",
        "n=[1,2,3,4,5,6,7,8]\n",
        "for i in n:\n",
        "  if i%2==0:\n",
        "    print(i)"
      ],
      "metadata": {
        "colab": {
          "base_uri": "https://localhost:8080/"
        },
        "id": "BKzzwXCovftQ",
        "outputId": "fbd47d9e-92d3-4444-e06e-cd453fb4e376"
      },
      "execution_count": 17,
      "outputs": [
        {
          "output_type": "stream",
          "name": "stdout",
          "text": [
            "2\n",
            "4\n",
            "6\n",
            "8\n"
          ]
        }
      ]
    },
    {
      "cell_type": "code",
      "source": [
        "#18 Program to print odd numbers in a List !\n",
        "n=[1,2,3,4,5,6,7,8]\n",
        "for i in n:\n",
        "  if i%2!=0:\n",
        "    print(i)"
      ],
      "metadata": {
        "colab": {
          "base_uri": "https://localhost:8080/"
        },
        "id": "Ohc4qabjvi1O",
        "outputId": "ed7d933e-a1b2-4045-c25f-88f765ebcb51"
      },
      "execution_count": 18,
      "outputs": [
        {
          "output_type": "stream",
          "name": "stdout",
          "text": [
            "1\n",
            "3\n",
            "5\n",
            "7\n"
          ]
        }
      ]
    },
    {
      "cell_type": "code",
      "source": [
        "#19 Program to print all even numbers in a range !\n",
        "n=[1, 2, 3, 4, 5, 6, 7, 8]\n",
        "even=[num for num in n if num % 2 == 0]\n",
        "print(even)"
      ],
      "metadata": {
        "colab": {
          "base_uri": "https://localhost:8080/"
        },
        "id": "aq_HMdvavnwE",
        "outputId": "b6666efe-6ca6-4aad-b737-ad81c896a0df"
      },
      "execution_count": 20,
      "outputs": [
        {
          "output_type": "stream",
          "name": "stdout",
          "text": [
            "[2, 4, 6, 8]\n"
          ]
        }
      ]
    },
    {
      "cell_type": "code",
      "source": [
        "#20 Program to print all odd numbers in a range !\n",
        "n=[1, 2, 3, 4, 5, 6, 7, 8]\n",
        "odd=[num for num in n if num % 2 != 0]\n",
        "print(odd)"
      ],
      "metadata": {
        "colab": {
          "base_uri": "https://localhost:8080/"
        },
        "id": "SHOp5qYAvvwH",
        "outputId": "046086bf-c642-43e9-88db-34512785e982"
      },
      "execution_count": 22,
      "outputs": [
        {
          "output_type": "stream",
          "name": "stdout",
          "text": [
            "[1, 3, 5, 7]\n"
          ]
        }
      ]
    },
    {
      "cell_type": "code",
      "source": [
        "#21 Program to count Even and Odd numbers in a List !\n",
        "n=[1, 2, 3, 4, 5, 6, 7, 8]\n",
        "even=[num for num in n if num % 2 == 0]\n",
        "odd=[num for num in n if num % 2 != 0]\n",
        "print(len(even))\n",
        "print(len(odd))"
      ],
      "metadata": {
        "colab": {
          "base_uri": "https://localhost:8080/"
        },
        "id": "6vgzTrWXv02D",
        "outputId": "2d8960f4-7877-4bfb-ba4b-df1dd9722d5d"
      },
      "execution_count": 23,
      "outputs": [
        {
          "output_type": "stream",
          "name": "stdout",
          "text": [
            "4\n",
            "4\n"
          ]
        }
      ]
    },
    {
      "cell_type": "code",
      "source": [
        "#22 Program to print positive numbers in a list !\n",
        "n=[-3,-2,-1,1,2,3]\n",
        "for i in n:\n",
        "  if i>0:\n",
        "    print(i)"
      ],
      "metadata": {
        "colab": {
          "base_uri": "https://localhost:8080/"
        },
        "id": "ju6SuEizv5Aa",
        "outputId": "c733610d-a9d5-4aee-bc6d-cd7ef935d1d5"
      },
      "execution_count": 24,
      "outputs": [
        {
          "output_type": "stream",
          "name": "stdout",
          "text": [
            "1\n",
            "2\n",
            "3\n"
          ]
        }
      ]
    },
    {
      "cell_type": "code",
      "source": [
        "#23 Program to print negative numbers in a list !\n",
        "n=[-3,-2,-1,1,2,3]\n",
        "for i in n:\n",
        "  if i<0:\n",
        "    print(i)"
      ],
      "metadata": {
        "colab": {
          "base_uri": "https://localhost:8080/"
        },
        "id": "DtesquBjwCO4",
        "outputId": "e9706d19-c64e-411b-9c0f-418cb9b8fa7b"
      },
      "execution_count": 25,
      "outputs": [
        {
          "output_type": "stream",
          "name": "stdout",
          "text": [
            "-3\n",
            "-2\n",
            "-1\n"
          ]
        }
      ]
    },
    {
      "cell_type": "code",
      "source": [
        "#24 Program to print all positive numbers in a range !\n",
        "n=[-3,-2,-1,1,2,3]\n",
        "positive=[num for num in n if num>0]\n",
        "print(positive)"
      ],
      "metadata": {
        "colab": {
          "base_uri": "https://localhost:8080/"
        },
        "id": "JZ_WQ2snwFkr",
        "outputId": "f9da0929-800c-427c-e35b-a7d68f989fb6"
      },
      "execution_count": 26,
      "outputs": [
        {
          "output_type": "stream",
          "name": "stdout",
          "text": [
            "[1, 2, 3]\n"
          ]
        }
      ]
    },
    {
      "cell_type": "code",
      "source": [
        "#25 Program to print all negative numbers in a range !\n",
        "n=[-3,-2,-1,1,2,3]\n",
        "negative=[num for num in n if num<0]\n",
        "print(negative)"
      ],
      "metadata": {
        "colab": {
          "base_uri": "https://localhost:8080/"
        },
        "id": "60CK8_4dwJqh",
        "outputId": "324f047e-bc8b-4f3f-c50a-c8c5b7477058"
      },
      "execution_count": 27,
      "outputs": [
        {
          "output_type": "stream",
          "name": "stdout",
          "text": [
            "[-3, -2, -1]\n"
          ]
        }
      ]
    },
    {
      "cell_type": "code",
      "source": [
        "#26 Program to count positive and negative numbers in a list !\n",
        "n=[-4,-3,-2,-1,1,2,3,4]\n",
        "positive=[num for num in n if num>0]\n",
        "negative=[num for num in n if num<0]\n",
        "print(len(positive))\n",
        "print(len(negative))"
      ],
      "metadata": {
        "colab": {
          "base_uri": "https://localhost:8080/"
        },
        "id": "BeM-mVT-wMyj",
        "outputId": "73fbda47-9999-4223-8712-0771c971f3d4"
      },
      "execution_count": 28,
      "outputs": [
        {
          "output_type": "stream",
          "name": "stdout",
          "text": [
            "4\n",
            "4\n"
          ]
        }
      ]
    },
    {
      "cell_type": "code",
      "source": [
        "#27 Remove multiple elements from a list in Python !\n",
        "L1=[1,2,3,4,5,6,7,8,9]\n",
        "del L1[3:]\n",
        "L1"
      ],
      "metadata": {
        "colab": {
          "base_uri": "https://localhost:8080/"
        },
        "id": "WenTOwu3wP0D",
        "outputId": "62b6f981-eeda-4781-acff-68a612a329dd"
      },
      "execution_count": 29,
      "outputs": [
        {
          "output_type": "execute_result",
          "data": {
            "text/plain": [
              "[1, 2, 3]"
            ]
          },
          "metadata": {},
          "execution_count": 29
        }
      ]
    },
    {
      "cell_type": "code",
      "source": [
        "#28 Remove empty tuples from a list !\n",
        "L1=[(1, 2),(),(3, 4),(5, 6)]\n",
        "L1=[tuple for tuple in L1 if tuple]\n",
        "print(L1)"
      ],
      "metadata": {
        "colab": {
          "base_uri": "https://localhost:8080/"
        },
        "id": "OV2B0lt5wUFR",
        "outputId": "17ceb448-ae58-4b4a-af74-f7372c659a4e"
      },
      "execution_count": 30,
      "outputs": [
        {
          "output_type": "stream",
          "name": "stdout",
          "text": [
            "[(1, 2), (3, 4), (5, 6)]\n"
          ]
        }
      ]
    },
    {
      "cell_type": "code",
      "source": [
        "#29 Program to print duplicates from a list of integers !\n",
        "L1=[1,2,2,3,3,3,4,4,4,4,5,5,5,5,5]\n",
        "L2=[]\n",
        "L3=[]\n",
        "for i in L1:\n",
        "    if i not in L2:\n",
        "        L2.append(i)\n",
        "    elif i not in L3:\n",
        "        L3.append(i)\n",
        "print(L3)"
      ],
      "metadata": {
        "colab": {
          "base_uri": "https://localhost:8080/"
        },
        "id": "TJkh7-NNwXmC",
        "outputId": "2655d52d-3e3d-4e08-b854-42a42ddf7028"
      },
      "execution_count": 31,
      "outputs": [
        {
          "output_type": "stream",
          "name": "stdout",
          "text": [
            "[2, 3, 4, 5]\n"
          ]
        }
      ]
    }
  ]
}