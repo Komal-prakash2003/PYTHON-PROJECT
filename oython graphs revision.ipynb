{
 "cells": [
  {
   "cell_type": "code",
   "execution_count": 18,
   "id": "65d88f1b-7371-463f-b06f-6cf62b4881a0",
   "metadata": {},
   "outputs": [],
   "source": [
    "import pandas as pd\n",
    "import numpy as np"
   ]
  },
  {
   "cell_type": "code",
   "execution_count": 19,
   "id": "836a62bb-4fa5-4681-b538-6bcfd9026f6a",
   "metadata": {},
   "outputs": [
    {
     "data": {
      "text/html": [
       "<div>\n",
       "<style scoped>\n",
       "    .dataframe tbody tr th:only-of-type {\n",
       "        vertical-align: middle;\n",
       "    }\n",
       "\n",
       "    .dataframe tbody tr th {\n",
       "        vertical-align: top;\n",
       "    }\n",
       "\n",
       "    .dataframe thead th {\n",
       "        text-align: right;\n",
       "    }\n",
       "</style>\n",
       "<table border=\"1\" class=\"dataframe\">\n",
       "  <thead>\n",
       "    <tr style=\"text-align: right;\">\n",
       "      <th></th>\n",
       "      <th>USERID</th>\n",
       "      <th>ORDERDATE</th>\n",
       "      <th>ORDERID</th>\n",
       "      <th>AMOUNTINFO</th>\n",
       "    </tr>\n",
       "  </thead>\n",
       "  <tbody>\n",
       "    <tr>\n",
       "      <th>0</th>\n",
       "      <td>142074</td>\n",
       "      <td>2016-01-01</td>\n",
       "      <td>4196439032</td>\n",
       "      <td>9399.0</td>\n",
       "    </tr>\n",
       "    <tr>\n",
       "      <th>1</th>\n",
       "      <td>56927</td>\n",
       "      <td>2016-01-01</td>\n",
       "      <td>4198324983</td>\n",
       "      <td>8799.0</td>\n",
       "    </tr>\n",
       "    <tr>\n",
       "      <th>2</th>\n",
       "      <td>87058</td>\n",
       "      <td>2016-01-01</td>\n",
       "      <td>4191287379</td>\n",
       "      <td>6899.0</td>\n",
       "    </tr>\n",
       "    <tr>\n",
       "      <th>3</th>\n",
       "      <td>136104</td>\n",
       "      <td>2016-01-01</td>\n",
       "      <td>4198508313</td>\n",
       "      <td>5999.0</td>\n",
       "    </tr>\n",
       "    <tr>\n",
       "      <th>4</th>\n",
       "      <td>117831</td>\n",
       "      <td>2016-01-01</td>\n",
       "      <td>4202238313</td>\n",
       "      <td>5399.0</td>\n",
       "    </tr>\n",
       "    <tr>\n",
       "      <th>...</th>\n",
       "      <td>...</td>\n",
       "      <td>...</td>\n",
       "      <td>...</td>\n",
       "      <td>...</td>\n",
       "    </tr>\n",
       "    <tr>\n",
       "      <th>86130</th>\n",
       "      <td>110416</td>\n",
       "      <td>2016-12-29</td>\n",
       "      <td>4111876729</td>\n",
       "      <td>3.9</td>\n",
       "    </tr>\n",
       "    <tr>\n",
       "      <th>86131</th>\n",
       "      <td>149172</td>\n",
       "      <td>2016-12-29</td>\n",
       "      <td>4182928398</td>\n",
       "      <td>0.5</td>\n",
       "    </tr>\n",
       "    <tr>\n",
       "      <th>86132</th>\n",
       "      <td>58525</td>\n",
       "      <td>2016-12-29</td>\n",
       "      <td>4080138429</td>\n",
       "      <td>0.5</td>\n",
       "    </tr>\n",
       "    <tr>\n",
       "      <th>86133</th>\n",
       "      <td>161732</td>\n",
       "      <td>2016-12-29</td>\n",
       "      <td>4193916074</td>\n",
       "      <td>0.5</td>\n",
       "    </tr>\n",
       "    <tr>\n",
       "      <th>86134</th>\n",
       "      <td>61176</td>\n",
       "      <td>2016-12-29</td>\n",
       "      <td>4195479740</td>\n",
       "      <td>0.5</td>\n",
       "    </tr>\n",
       "  </tbody>\n",
       "</table>\n",
       "<p>86135 rows × 4 columns</p>\n",
       "</div>"
      ],
      "text/plain": [
       "       USERID   ORDERDATE     ORDERID  AMOUNTINFO\n",
       "0      142074  2016-01-01  4196439032      9399.0\n",
       "1       56927  2016-01-01  4198324983      8799.0\n",
       "2       87058  2016-01-01  4191287379      6899.0\n",
       "3      136104  2016-01-01  4198508313      5999.0\n",
       "4      117831  2016-01-01  4202238313      5399.0\n",
       "...       ...         ...         ...         ...\n",
       "86130  110416  2016-12-29  4111876729         3.9\n",
       "86131  149172  2016-12-29  4182928398         0.5\n",
       "86132   58525  2016-12-29  4080138429         0.5\n",
       "86133  161732  2016-12-29  4193916074         0.5\n",
       "86134   61176  2016-12-29  4195479740         0.5\n",
       "\n",
       "[86135 rows x 4 columns]"
      ]
     },
     "execution_count": 19,
     "metadata": {},
     "output_type": "execute_result"
    }
   ],
   "source": [
    "df = pd.read_csv(\"sales.csv\")\n",
    "df "
   ]
  },
  {
   "cell_type": "code",
   "execution_count": 20,
   "id": "3c1ec792-e138-490a-b378-916228bfba26",
   "metadata": {},
   "outputs": [
    {
     "name": "stdout",
     "output_type": "stream",
     "text": [
      "<class 'pandas.core.frame.DataFrame'>\n",
      "RangeIndex: 86135 entries, 0 to 86134\n",
      "Data columns (total 4 columns):\n",
      " #   Column      Non-Null Count  Dtype  \n",
      "---  ------      --------------  -----  \n",
      " 0   USERID      86135 non-null  int64  \n",
      " 1   ORDERDATE   86133 non-null  object \n",
      " 2   ORDERID     86135 non-null  int64  \n",
      " 3   AMOUNTINFO  86127 non-null  float64\n",
      "dtypes: float64(1), int64(2), object(1)\n",
      "memory usage: 2.6+ MB\n"
     ]
    }
   ],
   "source": [
    "df.info()\n"
   ]
  },
  {
   "cell_type": "code",
   "execution_count": 21,
   "id": "221d519b-a0ed-48c5-8d3d-3f5a76b144f0",
   "metadata": {},
   "outputs": [
    {
     "data": {
      "text/html": [
       "<div>\n",
       "<style scoped>\n",
       "    .dataframe tbody tr th:only-of-type {\n",
       "        vertical-align: middle;\n",
       "    }\n",
       "\n",
       "    .dataframe tbody tr th {\n",
       "        vertical-align: top;\n",
       "    }\n",
       "\n",
       "    .dataframe thead th {\n",
       "        text-align: right;\n",
       "    }\n",
       "</style>\n",
       "<table border=\"1\" class=\"dataframe\">\n",
       "  <thead>\n",
       "    <tr style=\"text-align: right;\">\n",
       "      <th></th>\n",
       "      <th>USERID</th>\n",
       "      <th>ORDERDATE</th>\n",
       "      <th>ORDERID</th>\n",
       "      <th>AMOUNTINFO</th>\n",
       "    </tr>\n",
       "  </thead>\n",
       "  <tbody>\n",
       "    <tr>\n",
       "      <th>0</th>\n",
       "      <td>142074</td>\n",
       "      <td>2016-01-01</td>\n",
       "      <td>4196439032</td>\n",
       "      <td>9399.0</td>\n",
       "    </tr>\n",
       "    <tr>\n",
       "      <th>1</th>\n",
       "      <td>56927</td>\n",
       "      <td>2016-01-01</td>\n",
       "      <td>4198324983</td>\n",
       "      <td>8799.0</td>\n",
       "    </tr>\n",
       "    <tr>\n",
       "      <th>2</th>\n",
       "      <td>87058</td>\n",
       "      <td>2016-01-01</td>\n",
       "      <td>4191287379</td>\n",
       "      <td>6899.0</td>\n",
       "    </tr>\n",
       "    <tr>\n",
       "      <th>3</th>\n",
       "      <td>136104</td>\n",
       "      <td>2016-01-01</td>\n",
       "      <td>4198508313</td>\n",
       "      <td>5999.0</td>\n",
       "    </tr>\n",
       "    <tr>\n",
       "      <th>4</th>\n",
       "      <td>117831</td>\n",
       "      <td>2016-01-01</td>\n",
       "      <td>4202238313</td>\n",
       "      <td>5399.0</td>\n",
       "    </tr>\n",
       "  </tbody>\n",
       "</table>\n",
       "</div>"
      ],
      "text/plain": [
       "   USERID   ORDERDATE     ORDERID  AMOUNTINFO\n",
       "0  142074  2016-01-01  4196439032      9399.0\n",
       "1   56927  2016-01-01  4198324983      8799.0\n",
       "2   87058  2016-01-01  4191287379      6899.0\n",
       "3  136104  2016-01-01  4198508313      5999.0\n",
       "4  117831  2016-01-01  4202238313      5399.0"
      ]
     },
     "execution_count": 21,
     "metadata": {},
     "output_type": "execute_result"
    }
   ],
   "source": [
    "df.head()"
   ]
  },
  {
   "cell_type": "code",
   "execution_count": 22,
   "id": "14942470-12a1-449a-b3b0-8c54184fd4e5",
   "metadata": {},
   "outputs": [
    {
     "data": {
      "text/html": [
       "<div>\n",
       "<style scoped>\n",
       "    .dataframe tbody tr th:only-of-type {\n",
       "        vertical-align: middle;\n",
       "    }\n",
       "\n",
       "    .dataframe tbody tr th {\n",
       "        vertical-align: top;\n",
       "    }\n",
       "\n",
       "    .dataframe thead th {\n",
       "        text-align: right;\n",
       "    }\n",
       "</style>\n",
       "<table border=\"1\" class=\"dataframe\">\n",
       "  <thead>\n",
       "    <tr style=\"text-align: right;\">\n",
       "      <th></th>\n",
       "      <th>USERID</th>\n",
       "      <th>ORDERDATE</th>\n",
       "      <th>ORDERID</th>\n",
       "      <th>AMOUNTINFO</th>\n",
       "    </tr>\n",
       "  </thead>\n",
       "  <tbody>\n",
       "    <tr>\n",
       "      <th>86130</th>\n",
       "      <td>110416</td>\n",
       "      <td>2016-12-29</td>\n",
       "      <td>4111876729</td>\n",
       "      <td>3.9</td>\n",
       "    </tr>\n",
       "    <tr>\n",
       "      <th>86131</th>\n",
       "      <td>149172</td>\n",
       "      <td>2016-12-29</td>\n",
       "      <td>4182928398</td>\n",
       "      <td>0.5</td>\n",
       "    </tr>\n",
       "    <tr>\n",
       "      <th>86132</th>\n",
       "      <td>58525</td>\n",
       "      <td>2016-12-29</td>\n",
       "      <td>4080138429</td>\n",
       "      <td>0.5</td>\n",
       "    </tr>\n",
       "    <tr>\n",
       "      <th>86133</th>\n",
       "      <td>161732</td>\n",
       "      <td>2016-12-29</td>\n",
       "      <td>4193916074</td>\n",
       "      <td>0.5</td>\n",
       "    </tr>\n",
       "    <tr>\n",
       "      <th>86134</th>\n",
       "      <td>61176</td>\n",
       "      <td>2016-12-29</td>\n",
       "      <td>4195479740</td>\n",
       "      <td>0.5</td>\n",
       "    </tr>\n",
       "  </tbody>\n",
       "</table>\n",
       "</div>"
      ],
      "text/plain": [
       "       USERID   ORDERDATE     ORDERID  AMOUNTINFO\n",
       "86130  110416  2016-12-29  4111876729         3.9\n",
       "86131  149172  2016-12-29  4182928398         0.5\n",
       "86132   58525  2016-12-29  4080138429         0.5\n",
       "86133  161732  2016-12-29  4193916074         0.5\n",
       "86134   61176  2016-12-29  4195479740         0.5"
      ]
     },
     "execution_count": 22,
     "metadata": {},
     "output_type": "execute_result"
    }
   ],
   "source": [
    "\n",
    "df.tail()"
   ]
  },
  {
   "cell_type": "code",
   "execution_count": 23,
   "id": "daad4870-28f6-40b0-9fca-763a96815335",
   "metadata": {},
   "outputs": [
    {
     "data": {
      "text/html": [
       "<div>\n",
       "<style scoped>\n",
       "    .dataframe tbody tr th:only-of-type {\n",
       "        vertical-align: middle;\n",
       "    }\n",
       "\n",
       "    .dataframe tbody tr th {\n",
       "        vertical-align: top;\n",
       "    }\n",
       "\n",
       "    .dataframe thead th {\n",
       "        text-align: right;\n",
       "    }\n",
       "</style>\n",
       "<table border=\"1\" class=\"dataframe\">\n",
       "  <thead>\n",
       "    <tr style=\"text-align: right;\">\n",
       "      <th></th>\n",
       "      <th>USERID</th>\n",
       "      <th>ORDERID</th>\n",
       "      <th>AMOUNTINFO</th>\n",
       "    </tr>\n",
       "  </thead>\n",
       "  <tbody>\n",
       "    <tr>\n",
       "      <th>count</th>\n",
       "      <td>86135.000000</td>\n",
       "      <td>8.613500e+04</td>\n",
       "      <td>86127.000000</td>\n",
       "    </tr>\n",
       "    <tr>\n",
       "      <th>mean</th>\n",
       "      <td>108059.642782</td>\n",
       "      <td>4.137051e+09</td>\n",
       "      <td>744.705249</td>\n",
       "    </tr>\n",
       "    <tr>\n",
       "      <th>std</th>\n",
       "      <td>32866.109087</td>\n",
       "      <td>1.238664e+08</td>\n",
       "      <td>1425.211176</td>\n",
       "    </tr>\n",
       "    <tr>\n",
       "      <th>min</th>\n",
       "      <td>51220.000000</td>\n",
       "      <td>3.002478e+09</td>\n",
       "      <td>0.500000</td>\n",
       "    </tr>\n",
       "    <tr>\n",
       "      <th>25%</th>\n",
       "      <td>79565.500000</td>\n",
       "      <td>4.114637e+09</td>\n",
       "      <td>13.000000</td>\n",
       "    </tr>\n",
       "    <tr>\n",
       "      <th>50%</th>\n",
       "      <td>108072.000000</td>\n",
       "      <td>4.190615e+09</td>\n",
       "      <td>59.000000</td>\n",
       "    </tr>\n",
       "    <tr>\n",
       "      <th>75%</th>\n",
       "      <td>136378.000000</td>\n",
       "      <td>4.196161e+09</td>\n",
       "      <td>629.000000</td>\n",
       "    </tr>\n",
       "    <tr>\n",
       "      <th>max</th>\n",
       "      <td>165100.000000</td>\n",
       "      <td>4.203330e+09</td>\n",
       "      <td>30999.000000</td>\n",
       "    </tr>\n",
       "  </tbody>\n",
       "</table>\n",
       "</div>"
      ],
      "text/plain": [
       "              USERID       ORDERID    AMOUNTINFO\n",
       "count   86135.000000  8.613500e+04  86127.000000\n",
       "mean   108059.642782  4.137051e+09    744.705249\n",
       "std     32866.109087  1.238664e+08   1425.211176\n",
       "min     51220.000000  3.002478e+09      0.500000\n",
       "25%     79565.500000  4.114637e+09     13.000000\n",
       "50%    108072.000000  4.190615e+09     59.000000\n",
       "75%    136378.000000  4.196161e+09    629.000000\n",
       "max    165100.000000  4.203330e+09  30999.000000"
      ]
     },
     "execution_count": 23,
     "metadata": {},
     "output_type": "execute_result"
    }
   ],
   "source": [
    "df.describe()"
   ]
  },
  {
   "cell_type": "code",
   "execution_count": 24,
   "id": "a18cec76-2d5e-4ebf-bf21-74adc4d5a1af",
   "metadata": {},
   "outputs": [
    {
     "data": {
      "text/html": [
       "<div>\n",
       "<style scoped>\n",
       "    .dataframe tbody tr th:only-of-type {\n",
       "        vertical-align: middle;\n",
       "    }\n",
       "\n",
       "    .dataframe tbody tr th {\n",
       "        vertical-align: top;\n",
       "    }\n",
       "\n",
       "    .dataframe thead th {\n",
       "        text-align: right;\n",
       "    }\n",
       "</style>\n",
       "<table border=\"1\" class=\"dataframe\">\n",
       "  <thead>\n",
       "    <tr style=\"text-align: right;\">\n",
       "      <th></th>\n",
       "      <th>count</th>\n",
       "      <th>mean</th>\n",
       "      <th>std</th>\n",
       "      <th>min</th>\n",
       "      <th>25%</th>\n",
       "      <th>50%</th>\n",
       "      <th>75%</th>\n",
       "      <th>max</th>\n",
       "    </tr>\n",
       "  </thead>\n",
       "  <tbody>\n",
       "    <tr>\n",
       "      <th>USERID</th>\n",
       "      <td>86135.0</td>\n",
       "      <td>1.080596e+05</td>\n",
       "      <td>3.286611e+04</td>\n",
       "      <td>5.122000e+04</td>\n",
       "      <td>7.956550e+04</td>\n",
       "      <td>1.080720e+05</td>\n",
       "      <td>1.363780e+05</td>\n",
       "      <td>1.651000e+05</td>\n",
       "    </tr>\n",
       "    <tr>\n",
       "      <th>ORDERID</th>\n",
       "      <td>86135.0</td>\n",
       "      <td>4.137051e+09</td>\n",
       "      <td>1.238664e+08</td>\n",
       "      <td>3.002478e+09</td>\n",
       "      <td>4.114637e+09</td>\n",
       "      <td>4.190615e+09</td>\n",
       "      <td>4.196161e+09</td>\n",
       "      <td>4.203330e+09</td>\n",
       "    </tr>\n",
       "    <tr>\n",
       "      <th>AMOUNTINFO</th>\n",
       "      <td>86127.0</td>\n",
       "      <td>7.447052e+02</td>\n",
       "      <td>1.425211e+03</td>\n",
       "      <td>5.000000e-01</td>\n",
       "      <td>1.300000e+01</td>\n",
       "      <td>5.900000e+01</td>\n",
       "      <td>6.290000e+02</td>\n",
       "      <td>3.099900e+04</td>\n",
       "    </tr>\n",
       "  </tbody>\n",
       "</table>\n",
       "</div>"
      ],
      "text/plain": [
       "              count          mean           std           min           25%  \\\n",
       "USERID      86135.0  1.080596e+05  3.286611e+04  5.122000e+04  7.956550e+04   \n",
       "ORDERID     86135.0  4.137051e+09  1.238664e+08  3.002478e+09  4.114637e+09   \n",
       "AMOUNTINFO  86127.0  7.447052e+02  1.425211e+03  5.000000e-01  1.300000e+01   \n",
       "\n",
       "                     50%           75%           max  \n",
       "USERID      1.080720e+05  1.363780e+05  1.651000e+05  \n",
       "ORDERID     4.190615e+09  4.196161e+09  4.203330e+09  \n",
       "AMOUNTINFO  5.900000e+01  6.290000e+02  3.099900e+04  "
      ]
     },
     "execution_count": 24,
     "metadata": {},
     "output_type": "execute_result"
    }
   ],
   "source": [
    "df.describe().T"
   ]
  },
  {
   "cell_type": "code",
   "execution_count": 25,
   "id": "8569fa70-0f40-4037-b6a6-3e5d08016725",
   "metadata": {},
   "outputs": [
    {
     "data": {
      "text/plain": [
       "(86135, 4)"
      ]
     },
     "execution_count": 25,
     "metadata": {},
     "output_type": "execute_result"
    }
   ],
   "source": [
    "df.shape"
   ]
  },
  {
   "cell_type": "code",
   "execution_count": 32,
   "id": "df472d7f-438f-4f84-80ed-65bd6ff56727",
   "metadata": {},
   "outputs": [
    {
     "data": {
      "image/png": "[encoded data removed]",
      "text/plain": [
       "<Figure size 640x480 with 1 Axes>"
      ]
     },
     "metadata": {},
     "output_type": "display_data"
    }
   ],
   "source": [
    "import matplotlib.pyplot as plt\n",
    "a=df['USERID']\n",
    "b=df['AMOUNTINFO']\n",
    "plt.bar(a,b)\n",
    "plt.xlabel('USERID')\n",
    "plt.ylabel('AMOUNTINFO')\n",
    "plt.show()"
   ]
  },
  {
   "cell_type": "code",
   "execution_count": 33,
   "id": "d4a05844-16f7-41bc-b333-ef281f8bcfed",
   "metadata": {},
   "outputs": [
    {
     "data": {
      "image/png": "[encoded data removed]",
      "text/plain": [
       "<Figure size 1000x600 with 1 Axes>"
      ]
     },
     "metadata": {},
     "output_type": "display_data"
    }
   ],
   "source": [
    "import matplotlib.pyplot as plt\n",
    "categories=[\"a\",\"b\",\"c\",\"d\",\"e\"]\n",
    "value=[1,2,3,4,5]\n",
    "\n",
    "\n",
    "# Assuming df is your DataFrame\n",
    "a = df['USERID']\n",
    "b = df['AMOUNTINFO']\n",
    "\n",
    "# Set the figure size for better visibility\n",
    "plt.figure(figsize=(10, 6))\n",
    "\n",
    "# Create the bar plot\n",
    "plt.bar(a, b, width=0.5)  # You can adjust the width as needed\n",
    "\n",
    "# Label the axes\n",
    "plt.xlabel('USERID')\n",
    "plt.ylabel('AMOUNTINFO')\n",
    "\n",
    "# Rotate x-tick labels for better readability if necessary\n",
    "plt.xticks(rotation=45)\n",
    "\n",
    "# Show the plot\n",
    "plt.tight_layout()  # Adjust layout to make room for rotated x-ticks\n",
    "plt.show()"
   ]
  },
  {
   "cell_type": "code",
   "execution_count": 39,
   "id": "4858757c-7a4b-46f8-a156-f2226b6d6398",
   "metadata": {},
   "outputs": [
    {
     "data": {
      "image/png": "[encoded data removed]",
      "text/plain": [
       "<Figure size 640x480 with 1 Axes>"
      ]
     },
     "metadata": {},
     "output_type": "display_data"
    }
   ],
   "source": [
    "import matplotlib.pyplot as plt\n",
    "categories=[\"a\",\"b\",\"c\",\"d\",\"e\"]\n",
    "value=[1,2,3,4,5]\n",
    "plt.bar(categories,value,color=\"yellow\",edgecolor=\"black\")\n",
    "plt.xlabel(\"categories\")\n",
    "plt.ylabel(\"value\")\n",
    "plt.grid(axis=\"y\",linestyle=\"--\",alpha=0.75)\n",
    "plt.show()"
   ]
  },
  {
   "cell_type": "code",
   "execution_count": null,
   "id": "71c43b83-9bcd-469e-a98d-e304e1d28927",
   "metadata": {},
   "outputs": [],
   "source": []
  }
 ],
 "metadata": {
  "kernelspec": {
   "display_name": "Python 3 (ipykernel)",
   "language": "python",
   "name": "python3"
  },
  "language_info": {
   "codemirror_mode": {
    "name": "ipython",
    "version": 3
   },
   "file_extension": ".py",
   "mimetype": "text/x-python",
   "name": "python",
   "nbconvert_exporter": "python",
   "pygments_lexer": "ipython3",
   "version": "3.12.4"
  }
 },
 "nbformat": 4,
 "nbformat_minor": 5
}
